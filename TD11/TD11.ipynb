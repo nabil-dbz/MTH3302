{
 "cells": [
  {
   "cell_type": "markdown",
   "metadata": {},
   "source": [
    "\n",
    "# MTH3302 : Méthodes probabilistes et statistiques pour l'I.A.\n",
    "\n",
    "Jonathan Jalbert<br/>\n",
    "Professeur agrégé au Département de mathématiques et de génie industriel<br/>\n",
    "Polytechnique Montréal<br/>\n",
    "\n",
    "\n",
    "# TD11 : Classification bayésienne naïve pour filtrer les spams\n",
    "\n",
    "### Description\n",
    "\n",
    "Dans ce TD, nous construirons un filtre anti-spam pour un autre employé de la compagnie Enron. On utilisera autant de mot que néccessaire pour obtenir un classement satisfaisant.\n",
    "\n",
    "### Données\n",
    "\n",
    "Dans ce TD, nous utiliserons les messages électroniques d'un autre employé de la compagnie Enron. Veuillez récupérer l'archive *Enron2.zip* sur Moodle et la décompresser dans le répertoire courant du calepin. "
   ]
  },
  {
   "cell_type": "markdown",
   "metadata": {},
   "source": [
    "# Chargement des librairies"
   ]
  },
  {
   "cell_type": "code",
   "execution_count": null,
   "metadata": {},
   "outputs": [],
   "source": [
    "using MLBase"
   ]
  },
  {
   "cell_type": "markdown",
   "metadata": {},
   "source": [
    "# Chargement des données\n",
    "\n",
    "Le code de cette section permet de traiter les fichiers textes correspondant à tous les messages électroniques de l'utilisateurs. Les messages électroniques se trouvent dans les dossier *ham/* et *spam/* de l'utilisateur *Enron2*."
   ]
  },
  {
   "cell_type": "code",
   "execution_count": null,
   "metadata": {},
   "outputs": [],
   "source": [
    "# Récupération des noms de fichier de tous les hams\n",
    "filesdir = \"enron2/ham/\"\n",
    "filename_ham = filesdir.*readdir(filesdir);"
   ]
  },
  {
   "cell_type": "code",
   "execution_count": null,
   "metadata": {},
   "outputs": [],
   "source": [
    "# Récupération des noms de fichier de tous les spams\n",
    "filesdir = \"enron2/spam/\"\n",
    "filename_spam = filesdir.*readdir(filesdir);"
   ]
  },
  {
   "cell_type": "markdown",
   "metadata": {},
   "source": [
    "### Partitionnement des données en ensemble d'entraînement et de validation\n",
    "\n",
    "Le 2/3 des données constituent l'ensemble d'entraînement et le 1/3 restant l'ensemble de validation."
   ]
  },
  {
   "cell_type": "code",
   "execution_count": null,
   "metadata": {},
   "outputs": [],
   "source": [
    "# Partitionnement des courriels\n",
    "ham_train = sample(filename_ham, round(Int, 2/3*length(filename_ham)), replace=false, ordered=true)\n",
    "ham_valid = setdiff(filename_ham, ham_train);"
   ]
  },
  {
   "cell_type": "code",
   "execution_count": null,
   "metadata": {},
   "outputs": [],
   "source": [
    "# Partitionnement des pourriels\n",
    "spam_train = sample(filename_spam, round(Int, 2/3*length(filename_spam)), replace=false, ordered=true)\n",
    "spam_valid = setdiff(filename_spam, spam_train);"
   ]
  },
  {
   "cell_type": "code",
   "execution_count": null,
   "metadata": {},
   "outputs": [],
   "source": [
    "# Vecteur des solutions de l'ensemble de validation (0 = pourriel, 1 = courriel)\n",
    "Z = vcat(ones(Int64, length(ham_valid)), zeros(Int64, length(spam_valid)));"
   ]
  },
  {
   "cell_type": "code",
   "execution_count": null,
   "metadata": {},
   "outputs": [],
   "source": [
    "println(\"L'échantillon d'entraînement est composé de $(length(ham_train)) courriels et $(length(spam_train)) pourriels.\")\n",
    "println(\"L'échantillon de validation est composé de $(length(ham_valid)) courriels et $(length(spam_valid)) pourriels.\")"
   ]
  },
  {
   "cell_type": "markdown",
   "metadata": {},
   "source": [
    "# Extraction des occurrences des mots\n",
    "\n",
    "### Fonctions permettants le traitement des fichiers textes pour la classifications bayésienne naïve."
   ]
  },
  {
   "cell_type": "code",
   "execution_count": null,
   "metadata": {},
   "outputs": [],
   "source": [
    "\"\"\"\n",
    "    wordlisting(filename::String)\n",
    "\n",
    "Extrait la liste des mots contenus dans le fichier texte `filename`.\n",
    "\n",
    "### Détails\n",
    "Ne dénombre pas le nombre d'occurrence des mots dans un fichier. N'est pas sensible aux majuscules ni aux minuscules.\n",
    "\"\"\"\n",
    "function wordlisting(filename::String)\n",
    "    \n",
    "    f = read(filename, String)\n",
    "    text = replace(f, r\"[0123456789]\" => \"\")\n",
    "    words = split(text, r\"\\W+\")\n",
    "    filter!(x -> length(x) > 1, words)\n",
    "    wordlist = unique(words)\n",
    "    \n",
    "end\n",
    "\n",
    "\"\"\"\n",
    "    wordcounting(wordlist::Vector{<:AbstractString})\n",
    "\n",
    "Dénombre les occurrences des mots dans la liste `wordlist`. \n",
    "\n",
    "### Détails\n",
    "Retourne un dictionnaire ayant comme clé le mot, et la valeur l'occurrence du mot.\n",
    "\"\"\"\n",
    "function wordcounting(wordlist::Vector{<:AbstractString})\n",
    "\n",
    "    wordcounts = Dict{String,Int64}()\n",
    "\n",
    "    for word in wordlist\n",
    "        wordcounts[word]=get(wordcounts, word, 0) + 1\n",
    "    end\n",
    "    \n",
    "    return wordcounts\n",
    "    \n",
    "end"
   ]
  },
  {
   "cell_type": "markdown",
   "metadata": {},
   "source": [
    "### Extraction de l'occurrence des mots des courriels"
   ]
  },
  {
   "cell_type": "code",
   "execution_count": null,
   "metadata": {},
   "outputs": [],
   "source": [
    "ham_wordlist = wordlisting.(ham_train)\n",
    "ham_wordcounts = wordcounting(vcat(ham_wordlist...))"
   ]
  },
  {
   "cell_type": "markdown",
   "metadata": {},
   "source": [
    "### Extraction de l'occurrence des mots des pourriels"
   ]
  },
  {
   "cell_type": "code",
   "execution_count": null,
   "metadata": {},
   "outputs": [],
   "source": [
    "spam_wordlist = wordlisting.(spam_train)\n",
    "spam_wordcounts = wordcounting(vcat(spam_wordlist...))"
   ]
  },
  {
   "cell_type": "markdown",
   "metadata": {},
   "source": [
    "# Exercice 1\n",
    "\n",
    "Considérez le premier mot discriminant comme variable explicative pour classer les messages électroniques en courriels et pourriels :\n",
    "\n",
    "$$ X_1 = \\begin{cases}\n",
    "0 & \\mbox{ si le mot est absent du message ;}\\\\\n",
    "1 & \\mbox{ si le mot est présent dans le message.}\n",
    "\\end{cases}$$\n",
    "\n",
    "Utilisez les lois a priori vagues."
   ]
  },
  {
   "cell_type": "markdown",
   "metadata": {},
   "source": [
    "### (a) Calculez la probabilité marginale qu'un nouveau message soit un courriel\n",
    "\n",
    "Autrement dit, calculez la probabilité suivante\n",
    "\n",
    "$$p_1 = \\mathbb{P}(\\tilde{Y}=1).$$"
   ]
  },
  {
   "cell_type": "code",
   "execution_count": null,
   "metadata": {},
   "outputs": [],
   "source": []
  },
  {
   "cell_type": "markdown",
   "metadata": {},
   "source": [
    "### (b) Calculez la probabilité marginale qu'un nouveau message soit un pourriel\n",
    "\n",
    "Autrement dit, calculez la probabilité suivante\n",
    "\n",
    "$$p_0 = \\mathbb{P}(\\tilde{Y}=0).$$"
   ]
  },
  {
   "cell_type": "code",
   "execution_count": null,
   "metadata": {},
   "outputs": [],
   "source": []
  },
  {
   "cell_type": "markdown",
   "metadata": {},
   "source": [
    "### (c) Calculez la probabilité prédictive que le mot *click* soit présent dans un pourriel.\n",
    "\n",
    "Autrement dit, calculez la quantité suivante :\n",
    "\n",
    "$$p_{01} = \\mathbb{P}(\\tilde{X}_1=1|\\tilde{Y}=0).$$"
   ]
  },
  {
   "cell_type": "code",
   "execution_count": null,
   "metadata": {},
   "outputs": [],
   "source": []
  },
  {
   "cell_type": "markdown",
   "metadata": {},
   "source": [
    "### (d) Calculez la probabilité prédictive que le mot *click* soit présent dans un courriel.\n",
    "\n",
    "Autrement dit, calculez la quantité suivante :\n",
    "\n",
    "$$p_{11} = \\mathbb{P}(\\tilde{X}_1=1|\\tilde{Y}=1).$$"
   ]
  },
  {
   "cell_type": "code",
   "execution_count": null,
   "metadata": {},
   "outputs": [],
   "source": []
  },
  {
   "cell_type": "markdown",
   "metadata": {},
   "source": [
    "### (e) Calculez la probabilité que le message soit un courriel si le mot *click* est présent.\n",
    "\n",
    "Autrement dit, calculez la probabilité suivante :\n",
    "\n",
    "$$\\mathbb{P}(\\tilde{Y}=1|\\tilde{X}_1=1) = \\frac{\\mathbb{P}(\\tilde{X}_1=1|\\tilde{Y}=1) \\times \\mathbb{P}(\\tilde{Y}=1)}{ \\mathbb{P}(\\tilde{X}_1=1|\\tilde{Y}=0) \\times \\mathbb{P}(\\tilde{Y}=0) + \\mathbb{P}(\\tilde{X}_1=1|\\tilde{Y}=1) \\times \\mathbb{P}(\\tilde{Y}=1)}$$\n",
    "\n",
    "Avec la notation introduite précédemment, on a que\n",
    "\n",
    "$$\\mathbb{P}(\\tilde{Y}=1|\\tilde{X}_1=1) = \\frac{p_{11} \\times p_1}{ p_{01} \\times p_0 + p_{11} \\times p_1}.$$"
   ]
  },
  {
   "cell_type": "code",
   "execution_count": null,
   "metadata": {},
   "outputs": [],
   "source": []
  },
  {
   "cell_type": "markdown",
   "metadata": {},
   "source": [
    "### (f) Calculez la probabilité que le message soit un courriel si le mot *click* est absent.\n",
    "\n",
    "Autrement dit, calculez la probabilité suivante :\n",
    "\n",
    "$$\\mathbb{P}(\\tilde{Y}=1|\\tilde{X}_1=0) = \\frac{\\mathbb{P}(\\tilde{X}_1=0|\\tilde{Y}=1) \\times \\mathbb{P}(\\tilde{Y}=1)}{ \\mathbb{P}(\\tilde{X}_1=0|\\tilde{Y}=0) \\times \\mathbb{P}(\\tilde{Y}=0) + \\mathbb{P}(\\tilde{X}_1=0|\\tilde{Y}=1) \\times \\mathbb{P}(\\tilde{Y}=1)}$$\n",
    "\n",
    "Avec la notation introduite précédemment, on a que\n",
    "\n",
    "$$\\mathbb{P}(\\tilde{Y}=1|\\tilde{X}_1=1) = \\frac{(1-p_{11}) \\times p_1}{ (1-p_{01}) \\times p_0 + (1-p_{11}) \\times p_1}.$$"
   ]
  },
  {
   "cell_type": "code",
   "execution_count": null,
   "metadata": {},
   "outputs": [],
   "source": []
  },
  {
   "cell_type": "markdown",
   "metadata": {},
   "source": [
    "### (g) Filtrez les messages de l'ensemble de validation"
   ]
  },
  {
   "cell_type": "code",
   "execution_count": null,
   "metadata": {},
   "outputs": [],
   "source": []
  },
  {
   "cell_type": "markdown",
   "metadata": {},
   "source": [
    "# Exercice 2\n",
    "\n",
    "Voici deux fonctions permettant de calculer les facteurs devant les probabilités marginales pour inclure l'effet de la variable explicative. On va reprendre l'Exercice 1 en utilisant ces fonctions. On pourra par la suite facilement généraliser à plusieurs variables explicatives."
   ]
  },
  {
   "cell_type": "code",
   "execution_count": null,
   "metadata": {},
   "outputs": [],
   "source": [
    "\"\"\"\n",
    "    wordspamliness(word::AbstractString)\n",
    "\n",
    "Calcul la probabilite que `word` soit présent dans les spams (p₀₁).\n",
    "\n",
    "### Détails\n",
    "Le nombre de spams `n₀` et le dénombrement de l'occurrence des mots dans les spams `spam_wordcounts` doivent\n",
    "être dans le global scope.\n",
    "\"\"\"\n",
    "function wordspamliness(word::AbstractString)\n",
    "    \n",
    "    if haskey(spam_wordcounts, word)\n",
    "        n₀₁ = spam_wordcounts[word]\n",
    "    else\n",
    "        n₀₁ = 0\n",
    "    end\n",
    "\n",
    "    p₀₁ = (1 + n₀₁)/(2 + n₀)\n",
    "    \n",
    "end\n",
    "\n",
    "\"\"\"\n",
    "    wordhamliness(word::AbstractString)\n",
    "\n",
    "Calcul la probabilite que `word` soit présent dans les hams (p₁₁).\n",
    "\n",
    "### Détails\n",
    "Le nombre de hams `n₁` et le dénombrement de l'occurrence des mots dans les hams `ham_wordcounts` doivent\n",
    "être dans le global scope.\n",
    "\"\"\"\n",
    "function wordhamliness(word::AbstractString)\n",
    "    \n",
    "    if haskey(ham_wordcounts, word)\n",
    "        n₁₁ = ham_wordcounts[word]\n",
    "    else\n",
    "        n₁₁ = 0\n",
    "    end\n",
    "\n",
    "    p₁₁ = (1 + n₁₁)/(2 + n₁)\n",
    "    \n",
    "end"
   ]
  },
  {
   "cell_type": "markdown",
   "metadata": {},
   "source": [
    "### (a) Calculez p₀₁ et p₁₁ avec les fonctions données dans la cellules précédentes pour le mot *click*."
   ]
  },
  {
   "cell_type": "code",
   "execution_count": null,
   "metadata": {},
   "outputs": [],
   "source": []
  },
  {
   "cell_type": "markdown",
   "metadata": {},
   "source": [
    "### (b) Écrivez une fonction permettant de filter les courriels en fonction d'un mot\n",
    "\n",
    "Vous pouvez utilisez la transformation log pour stabiliser numériquement vos calculs"
   ]
  },
  {
   "cell_type": "code",
   "execution_count": null,
   "metadata": {},
   "outputs": [],
   "source": [
    "\"\"\"\n",
    "    function filteremail(filename::AbstractString, word::AbstractString)\n",
    "\n",
    "Filtre le message contenu dans le fichier `filename` en fonction du mot `word`.\n",
    "\n",
    "### Détail\n",
    "La valeur 1 est renvoyée si la probabilité prédictive que ce soit un courriel est supérieur à .5. \n",
    "Sinon, la valeur 0 est renvoyée\n",
    "\"\"\"\n",
    "function filteremail(filename::AbstractString, word::AbstractString)\n",
    "\n",
    "    #ToDo\n",
    "\n",
    "end"
   ]
  },
  {
   "cell_type": "markdown",
   "metadata": {},
   "source": [
    "### (c) Filtrez les messages de l'ensemble de validation avec votre fonction en utilisant le mot *click*."
   ]
  },
  {
   "cell_type": "code",
   "execution_count": null,
   "metadata": {},
   "outputs": [],
   "source": []
  },
  {
   "cell_type": "markdown",
   "metadata": {},
   "source": [
    "# Exercice 3 - Utilisation d'une liste de mots\n",
    "\n",
    "La cellule suivante permet de trouver les mots les plus discriminants pour classifier les messages entre pourriels et courriels. On utilise l'information mutuelle, concept que nous voyons au chapiter suivant en théorie de l'information.\n",
    "\n",
    "Le résultat de la prochaine cellule est une liste de mots classés selon leur pouvoir discriminant du plus grand au plus petit. Le premier mot est donc celui qui permet de mieux classer les courriels des pourriels."
   ]
  },
  {
   "cell_type": "code",
   "execution_count": null,
   "metadata": {},
   "outputs": [],
   "source": [
    "function mutualInformation(word::AbstractString, n₀::Int, n₁::Int, ham_wordcounts::Dict{String,Int64}, spam_wordcounts::Dict{String,Int64})\n",
    "   \n",
    "    p₁ = n₁/(n₀ + n₁)\n",
    "    \n",
    "    \n",
    "    if haskey(ham_wordcounts, word)\n",
    "        n₀₁ = ham_wordcounts[word]\n",
    "    else\n",
    "        n₀₁ = 0\n",
    "    end\n",
    "    \n",
    "    if haskey(spam_wordcounts, word)\n",
    "        n₁₁ = spam_wordcounts[word]\n",
    "    else\n",
    "        n₁₁ = 0\n",
    "    end\n",
    "    \n",
    "    θ₀₁ = (1 + n₀₁) / (2 + n₀)\n",
    "    θ₁₁ = (1 + n₁₁) / (2 + n₁)\n",
    "    \n",
    "    θ₁ = (1-p₁)*θ₀₁ + p₁*θ₁₁ \n",
    "    \n",
    "    I_mat = [ (1-p₁)*(1-θ₀₁)*log( (1-θ₀₁)/(1-θ₁) ), (1-p₁)*θ₀₁*log( θ₀₁/θ₁ ),\n",
    "        p₁*(1-θ₁₁)*log( (1-θ₁₁)/(1-θ₁) ), p₁*θ₁₁*log( θ₁₁/θ₁ )  ]\n",
    "    \n",
    "    I = sum(I_mat)\n",
    "    \n",
    "    return I\n",
    "    \n",
    "end\n",
    "\n",
    "wordlist = unique(vcat(wordlisting.(vcat(ham_train, spam_train))...))\n",
    "I = Float64[]\n",
    "\n",
    "for word in wordlist\n",
    "   push!(I, mutualInformation(word, length(ham_train), length(spam_train), ham_wordcounts, spam_wordcounts)) \n",
    "end\n",
    "\n",
    "ind = sortperm(I, rev=true)\n",
    "\n",
    "discriminantwords = wordlist[ind]"
   ]
  },
  {
   "cell_type": "markdown",
   "metadata": {},
   "source": [
    "### (a) Écrivez une fonction généralisant votre fonction `filteremail()` pour une liste de mots"
   ]
  },
  {
   "cell_type": "code",
   "execution_count": null,
   "metadata": {},
   "outputs": [],
   "source": [
    "\"\"\"\n",
    "    function filteremail(filename::AbstractString, words::Vector{<:AbstractString})\n",
    "\n",
    "Filtre le message contenu dans le fichier `filename` en fonction de la liste de mots `words`.\n",
    "\n",
    "### Détail\n",
    "La valeur 1 est renvoyée si la probabilité prédictive que ce soit un courriel est supérieur à .5. \n",
    "Sinon, la valeur 0 est renvoyée\n",
    "\"\"\"\n",
    "function filteremail(filename::AbstractString, words::Vector{<:AbstractString})\n",
    "\n",
    "    #ToDo\n",
    "\n",
    "end"
   ]
  },
  {
   "cell_type": "markdown",
   "metadata": {},
   "source": [
    "### (c) Filtrez les messages de l'ensemble de validation avec votre fonction.\n",
    "\n",
    "Utilisez les 10 mots les plus discriminants, ensuite les 100, les 1000, etc."
   ]
  },
  {
   "cell_type": "code",
   "execution_count": null,
   "metadata": {},
   "outputs": [],
   "source": []
  },
  {
   "cell_type": "code",
   "execution_count": null,
   "metadata": {},
   "outputs": [],
   "source": []
  }
 ],
 "metadata": {
  "@webio": {
   "lastCommId": null,
   "lastKernelId": null
  },
  "kernelspec": {
   "display_name": "Julia 1.6.3",
   "language": "julia",
   "name": "julia-1.6"
  },
  "language_info": {
   "file_extension": ".jl",
   "mimetype": "application/julia",
   "name": "julia",
   "version": "1.6.3"
  }
 },
 "nbformat": 4,
 "nbformat_minor": 2
}
