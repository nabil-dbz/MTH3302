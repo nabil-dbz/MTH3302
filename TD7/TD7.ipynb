{
 "cells": [
  {
   "cell_type": "markdown",
   "metadata": {},
   "source": [
    "# MTH3302 : Méthodes probabilistes et statistiques pour l'I.A.\n",
    "\n",
    "Jonathan Jalbert<br/>\n",
    "Professeur agrégé au Département de mathématiques et de génie industriel<br/>\n",
    "Polytechnique Montréal<br/>\n",
    "\n",
    "\n",
    "## TD5 : Méthodes Monte-Carlo par chaîne de Markov (MCMC)\n",
    "\n",
    "\n",
    "Dans ce TD, nous implémenterons l'algorithme de Metropolis-Hastings et l'échantillonnage de Gibbs, deux méthodes Monte-Carlo par chaîne de Markov, permettant d'otenir un échantillon aléatoire à partir de la forme fonctionnelle d'un loi de probabilité. La lecture du chapitre 5 des notes de cours vous sera très utile."
   ]
  },
  {
   "cell_type": "code",
   "execution_count": null,
   "metadata": {},
   "outputs": [],
   "source": [
    "# Chargement des librairies nécessaires\n",
    "using CSV, DataFrames, Gadfly, Statistics, Distributions"
   ]
  },
  {
   "cell_type": "markdown",
   "metadata": {},
   "source": [
    "## Exercice 1 : Génération d'un échantillon à l'aide de l'algorithme de Metropolis-Hastings\n",
    "\n",
    "Dans cet exercice, nous génèrerons un échantillon de la loi de Student à 15 degrés de liberté avec l'algorithme de Metropolis-Hastings. Nous utiliserons une marche aléatoire symétrique comme loi de proposition des candidats. Le but de cet exercice consite à vous familiariser avec l'algorithme de Metropolis-Hastings.\n",
    "\n",
    "Dans l'algorithme de Metropolis-Hastings, seulement la forme fonctionnelle de la loi est requise. Pour la loi de Student à 15 degrés de liberté, la forme fonctionnelle est la suivante :\n",
    "$$g_Y(y) \\propto \\left( 1+\\frac{y^2}{15} \\right)^{-8}.$$\n"
   ]
  },
  {
   "cell_type": "code",
   "execution_count": null,
   "metadata": {},
   "outputs": [],
   "source": [
    "# Définition de la forme fonctionnelle de la loi de Student à 15 degrés de liberté\n",
    "g(y::Real) = (1+(y^2)/15)^-8\n",
    "\n",
    "# Affichage de la forme fonctionnelle\n",
    "y = -5:.01:5\n",
    "plot(x=y,y=g.(y),Geom.line, Guide.xlabel(\"y\"), Guide.ylabel(\"g(y)\"))"
   ]
  },
  {
   "cell_type": "markdown",
   "metadata": {},
   "source": [
    "#### Définition de la loi de proposition des candidats.\n",
    "\n",
    "Dans cet exercice, nous utiliserons la loi normale centrée et de variance 4 comme loi de proposition des candidats :\n",
    "\n",
    "$$\\delta \\sim \\mathcal{N}(0,2^2).$$"
   ]
  },
  {
   "cell_type": "code",
   "execution_count": null,
   "metadata": {},
   "outputs": [],
   "source": [
    "δ = Normal(0,2)"
   ]
  },
  {
   "cell_type": "markdown",
   "metadata": {},
   "source": [
    "#### Initialisation de l'état de y\n",
    "\n",
    "L'état initial de y est défini arbitrairement à -5."
   ]
  },
  {
   "cell_type": "code",
   "execution_count": null,
   "metadata": {},
   "outputs": [],
   "source": [
    "# Initialisation de l'état de y à -5.\n",
    "\n",
    "y = Float64[]\n",
    "push!(y,-5)"
   ]
  },
  {
   "cell_type": "markdown",
   "metadata": {},
   "source": [
    "### (a) Proposez un candidat pour l'état suivant\n",
    "\n",
    "Générez un candidat avec la loi de proposition des candidats. Avec une marche aléatoire, on fait un pas aléatoire depuis l'état présent. Donc générez un pas de la loi delta pour trouver le candidat dénoté $\\tilde{y}$.\n",
    "\n",
    "Une réalisation de $\\delta$ peut être obetnue avec la commande `rand(δ)`. "
   ]
  },
  {
   "cell_type": "code",
   "execution_count": null,
   "metadata": {},
   "outputs": [],
   "source": []
  },
  {
   "cell_type": "markdown",
   "metadata": {},
   "source": [
    "### (b) Calculez la probabilité ρ d'accepter le candidat ỹ.\n",
    "\n",
    "Cette probabilité est donnée par l'équation suivante :\n",
    "\n",
    "$$\\rho = \\min \\left\\{ \\frac{g(\\tilde{y})}{g(y)} , 1 \\right\\}. $$"
   ]
  },
  {
   "cell_type": "code",
   "execution_count": null,
   "metadata": {},
   "outputs": [],
   "source": []
  },
  {
   "cell_type": "markdown",
   "metadata": {},
   "source": [
    "### (c) Définir l'état suivant en fonction de ρ.\n",
    "\n",
    "L'état suivant est défini comme suit :\n",
    "$$y^{(1)} = \\begin{cases} \n",
    "            \\tilde{y} & \\mbox{ avec probabilité } \\rho ; \\\\\n",
    "            y^{(0)} & \\mbox{ avec probabilité } (1-\\rho) .\n",
    "             \\end{cases}$$\n",
    "             \n",
    "Donc en fonction de $\\rho$, définissez l'état suivant et ajoutez le à la fin du vecteur $y$ avec la fonction `push!`."
   ]
  },
  {
   "cell_type": "code",
   "execution_count": null,
   "metadata": {},
   "outputs": [],
   "source": []
  },
  {
   "cell_type": "markdown",
   "metadata": {},
   "source": [
    "### (d) Répétez les étapes (a) à (c) pour obtenir un vecteur y de taille 3000."
   ]
  },
  {
   "cell_type": "code",
   "execution_count": null,
   "metadata": {},
   "outputs": [],
   "source": [
    "\n"
   ]
  },
  {
   "cell_type": "markdown",
   "metadata": {},
   "source": [
    "### (e) Tracez la chaîne générée et identifiez les phases de chauffe et d'échantillonnage."
   ]
  },
  {
   "cell_type": "code",
   "execution_count": null,
   "metadata": {},
   "outputs": [],
   "source": []
  },
  {
   "cell_type": "markdown",
   "metadata": {},
   "source": [
    "### (f) Illustrez par un histogramme les itérations de la phase d'échantillonnage\n",
    "\n",
    "Les itérations de la phase de chauffe peuvent être supprimées avec la fonction `deleteat!`. Par sécurité, éliminez les 500 premières itérations. Utilisez la géométrie `Geom.histogram(bincount=30)`de la fonction `plot` pour tracer l'histogramme."
   ]
  },
  {
   "cell_type": "code",
   "execution_count": null,
   "metadata": {},
   "outputs": [],
   "source": []
  },
  {
   "cell_type": "code",
   "execution_count": null,
   "metadata": {},
   "outputs": [],
   "source": []
  },
  {
   "cell_type": "markdown",
   "metadata": {},
   "source": [
    "## Exercice 2 : Génération d'un échantillon aléatoire avec la fonction rwmh.\n",
    "\n",
    "La fonction `rwmh` pour *random walk Metropolis-Hastings* permet de générer un échantillon aléatoire avec l'algorithme de Metropolis-Hastings utilisant une marche aléatoire comme loi de proposition des candidats. Cette fonction utilise une implémentation numériquement stable et computationnellement efficace de l'algorithme de Metropolis-Hastings. Elle requiert le *ln* de la forme fonctionnelle de la densité duquel l'échantillon est généré."
   ]
  },
  {
   "cell_type": "code",
   "execution_count": null,
   "metadata": {},
   "outputs": [],
   "source": [
    "\"\"\"\n",
    "    rwmh(logf::Function ; n::Int=1000, δ::UnivariateDistribution=Normal(0,1), initialvalue::Real=0.0, warmup::Int=0)\n",
    "\n",
    "Génération d'un échantillon aléatoire avec l'algorithme de Metropolis-Hastings utilisant une marche aléatoire comme loi de proposition.\n",
    "\n",
    "### Arguments\n",
    "- `logf::Function` : fonction unidimensionnelle évaluant la forme fonctionnelle de la densité.\n",
    "- `n::Int` : Nombre d'itérations de l'algorithme (n=1000 par défaut).\n",
    "- `δ::UnivariateDistribution` : Une distribution symétrique et centrée en 0 permettant de générer les pas de la marche aléatoire. La loi normale centrée réduite est utilisée par défaut. \n",
    "- `initialvalue::Real` : L'état initial de la chaîne (0 par défaut.)\n",
    "- `warmup::Int` : Le nombre d'itérations de la phase de chauffe à retirer (0 par défaut).\n",
    "\n",
    "### Details\n",
    "\n",
    "La fonctionne retourne la chaîne générée et un vecteur de booléens indicant si le candidat a été accepté ou refusé à chacune des itérations.\n",
    "\n",
    "### Exemples\n",
    "\n",
    "\\```\n",
    " julia> chain, acc = rwmh(logf)\n",
    " julia> chain, acc = rwmh(logf ; n=3000, δ = TDist(5), initialvalue=-5, warmup::Int=500)\n",
    "\\```\n",
    "\n",
    "\"\"\"\n",
    "function rwmh(logf::Function ; n::Int=1000, δ::UnivariateDistribution=Normal(0,1), initialvalue::Real=0.0, warmup::Int=0)\n",
    "    \n",
    "    @assert mean(δ)==0.0 \"The stepsize distribution should be centered at 0.\"\n",
    "    @assert skewness(δ)==0.0 \"The stepsize distribution should be symetrical.\"\n",
    "    @assert warmup<n \"The total number of iterations shoub be larger than the warm-up.\"\n",
    "    \n",
    "    y = zeros(n)\n",
    "    acc = falses(n)\n",
    "    \n",
    "    y[1] = initialvalue\n",
    "        \n",
    "    d = rand(δ,n)\n",
    "    \n",
    "    log_u = log.(rand(n))\n",
    "    \n",
    "    for i=2:n\n",
    "       \n",
    "        ỹ = y[i-1] + d[i]\n",
    "        \n",
    "        log_ρ = logf(ỹ) - logf(y[i-1])\n",
    "        \n",
    "        if log_ρ > log_u[i]\n",
    "            y[i] = ỹ\n",
    "            acc[i] = true\n",
    "        else\n",
    "            y[i] = y[i-1]\n",
    "        end\n",
    "        \n",
    "    end\n",
    "    \n",
    "    if warmup>0\n",
    "        deleteat!(y,1:warmup)\n",
    "        deleteat!(acc,1:warmup)\n",
    "    end\n",
    "    \n",
    "    return y, acc\n",
    "    \n",
    "end"
   ]
  },
  {
   "cell_type": "markdown",
   "metadata": {},
   "source": [
    "### (a) Définissez la fonction du log de la forme fonctionnelle de la loi de Student à 15 degrés de liberté"
   ]
  },
  {
   "cell_type": "code",
   "execution_count": null,
   "metadata": {},
   "outputs": [],
   "source": []
  },
  {
   "cell_type": "markdown",
   "metadata": {},
   "source": [
    "### (b) Générez un échantillon de taille 3000 avec la fonction `rwmh`en rejetant les 500 premières itérations."
   ]
  },
  {
   "cell_type": "code",
   "execution_count": null,
   "metadata": {},
   "outputs": [],
   "source": []
  },
  {
   "cell_type": "markdown",
   "metadata": {},
   "source": [
    "### (c) Calculez le taux d'acceptation des candidats"
   ]
  },
  {
   "cell_type": "code",
   "execution_count": null,
   "metadata": {},
   "outputs": [],
   "source": []
  },
  {
   "cell_type": "markdown",
   "metadata": {},
   "source": [
    "### (d) Affichez la chaîne résultante et l'histogramme"
   ]
  },
  {
   "cell_type": "code",
   "execution_count": null,
   "metadata": {},
   "outputs": [],
   "source": []
  },
  {
   "cell_type": "code",
   "execution_count": null,
   "metadata": {},
   "outputs": [],
   "source": []
  },
  {
   "cell_type": "markdown",
   "metadata": {},
   "source": [
    "## Exercice 3 : Expérience de Michelson-Morley (avec variance connue)\n",
    "\n",
    "On a que\n",
    "\n",
    "$$ Y_i \\sim \\mathcal{N} \\left( \\mu, \\sigma^2 \\right) ; $$\n",
    "\n",
    "avec la variance est connue et égale à $\\sigma^2 = (0.75)^2$. On utilise la loi *a priori* suivante pour $\\mu$ inconnu :\n",
    "\n",
    "$$f_{\\mu}(\\mu) = t_5(0,\\sigma) ; $$\n",
    "\n",
    "qui correspond à la loi de Student à 5 degrés de liberté, de moyenne 0 et de paramètre d'échelle $\\sigma$.\n",
    "\n",
    "Puisque la loi de Student n'est pas conjuguée, la loi *a posteriori* ne s'exprime pas sous une forme analytique. Par conséquent, nous utiliserons l'algorithme de Metropolis-Hastings pour obtenir un échantillon de la loi *a posteriori*."
   ]
  },
  {
   "cell_type": "code",
   "execution_count": null,
   "metadata": {},
   "outputs": [],
   "source": [
    "# Chargement des données\n",
    "data = CSV.read(\"illingworth1927.csv\", DataFrame)\n",
    "\n",
    "df = filter(row -> (row.Time == \"5 a.m.\") & (row.Direction ==\"N\"), data )\n",
    "y = df[:,:FringeDispl]\n",
    "\n",
    "# Définition de l'écart-type de l'erreur de mesure\n",
    "σ = 3/2"
   ]
  },
  {
   "cell_type": "markdown",
   "metadata": {},
   "source": [
    "### (a) Écrivez la log-vraisemblance\n",
    "\n",
    "Écrivez la log-vraisemblance de l'échantillon aléatoire comme une fonction de $\\mu$. Pour ce faire, la fonction `loglikelihood` peut être très utile. Évaluez ensuite la log-vraisemblance au point $\\mu=0$."
   ]
  },
  {
   "cell_type": "code",
   "execution_count": null,
   "metadata": {},
   "outputs": [],
   "source": []
  },
  {
   "cell_type": "markdown",
   "metadata": {},
   "source": [
    "### (b) Écrivez la log-densité de la loi *a priori*.\n",
    "\n",
    "Écrivez la log-densité de la loi *a priori* de $\\mu$ comme une fonction de $\\mu$. Pour définir un objet *Distribution* de type loi de Student à 5 degrés de liberté de moyenne 0 et d'échelle $\\sigma$, vous pouvez utiliser la commande `LocationScale(0,σ,TDist(5))` qui ajoute un paramètre de localisation et de forme à la loi de Student. La log-densité peut être obtenue avec la fonction `logpdf`. Évaluez ensuite la log-densité de la loi *a priori* au point $\\mu=0$."
   ]
  },
  {
   "cell_type": "code",
   "execution_count": null,
   "metadata": {},
   "outputs": [],
   "source": []
  },
  {
   "cell_type": "markdown",
   "metadata": {},
   "source": [
    "### (c) Écrivez le log de la forme fonctionnelle de la loi *a posteriori*. \n",
    "\n",
    "Écrivez le log de la forme fonctionnelle de la loi *a posteriori* comme une fonction de $\\mu$. Évaluez ensuide cette fonction au point $\\mu=0$."
   ]
  },
  {
   "cell_type": "code",
   "execution_count": null,
   "metadata": {},
   "outputs": [],
   "source": []
  },
  {
   "cell_type": "markdown",
   "metadata": {},
   "source": [
    "### (d) Générez un échantillon de la loi *a posteriori*.\n",
    "\n",
    "Utilisez le log de la forme fonctionnelle de la loi *a posteriori* dans la fonction `rwmh` pour générer un échantillon de cette loi. Assurez-vous que le taux d'acceptation des candidats est entre 40% et 70%."
   ]
  },
  {
   "cell_type": "code",
   "execution_count": null,
   "metadata": {},
   "outputs": [],
   "source": []
  },
  {
   "cell_type": "code",
   "execution_count": null,
   "metadata": {},
   "outputs": [],
   "source": []
  },
  {
   "cell_type": "code",
   "execution_count": null,
   "metadata": {},
   "outputs": [],
   "source": []
  },
  {
   "cell_type": "markdown",
   "metadata": {},
   "source": [
    "### (e) Obtenez une estimation ponctuelle de $\\mu$.\n",
    "\n",
    "À l'aide de l'échantillon aléatoire obtenu, obtenez une estimation ponctuelle de $\\mu$."
   ]
  },
  {
   "cell_type": "code",
   "execution_count": null,
   "metadata": {},
   "outputs": [],
   "source": []
  },
  {
   "cell_type": "code",
   "execution_count": null,
   "metadata": {},
   "outputs": [],
   "source": []
  },
  {
   "cell_type": "code",
   "execution_count": null,
   "metadata": {},
   "outputs": [],
   "source": []
  }
 ],
 "metadata": {
  "@webio": {
   "lastCommId": null,
   "lastKernelId": null
  },
  "kernelspec": {
   "display_name": "Julia 1.6.2",
   "language": "julia",
   "name": "julia-1.6"
  },
  "language_info": {
   "file_extension": ".jl",
   "mimetype": "application/julia",
   "name": "julia",
   "version": "1.5.3"
  }
 },
 "nbformat": 4,
 "nbformat_minor": 2
}
