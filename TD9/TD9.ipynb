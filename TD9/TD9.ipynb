{
 "cells": [
  {
   "cell_type": "markdown",
   "metadata": {},
   "source": [
    "# MTH3302 : Méthodes probabilistes et statistiques pour l'I.A.\n",
    "\n",
    "Jonathan Jalbert<br/>\n",
    "Professeur agrégé au Département de mathématiques et de génie industriel<br/>\n",
    "Polytechnique Montréal<br/>\n",
    "\n",
    "\n",
    "# TD9 : Régression bayésienne\n",
    "\n",
    "La régression ridge est un cas particulier de la régression linéaire bayésienne lorsque la loi *a priori* partiellement informative suivante est utilisée :\n",
    "$$ f_{(\\boldsymbol{\\beta},\\sigma^2)}(\\boldsymbol{\\beta},\\sigma^2) \\propto \\mathcal{N}\\left(\\boldsymbol{\\beta} \\, \\left| \\, \\boldsymbol{0}_p , \\frac{\\sigma^2}{\\lambda}I_p \\right. \\right) \\times \\frac{1}{\\sigma^2}. $$\n",
    "Pour être conséquent avec l'approche bayésienne, il faudrait fixer l'hyperparamètre $\\lambda$ avant même d'avoir vu les données. De façon pragmatique, la valeur de $\\lambda$ est souvent choisie par validation comme nous le ferons dans cet exercice.\n",
    "\n",
    "## Données\n",
    "\n",
    "Le jeu de données étudiées pour l'exercice 1 provient de l'étude de Tibshirani et al. (2004) illustrant les méthodes de régression modernes telle que la régression ridge. Nous étudierons la glycémie sanguine (glu) en fonction de 8 variables explicatives : l'âge du patient (age), l'indice de masse corporel du patient (bmi), de la tension artérielle moyenne (map) ainsi que de 5 autres indicateur sanguins (tc, ldl, hdl, tch et ltg). Nous laissons tomber dans le caadre de ce TD le sexe du patient et la variable prog.\n",
    "\n",
    "\n",
    "#### Référence\n",
    "Tibshirani, R. J., Johnstone, I., Hastie, T., & Efron, B. (2004). Least angle regression. *The Annals of Statistics*, 32(2), 407–499. DOI:10.1214/009053604000000067\n"
   ]
  },
  {
   "cell_type": "code",
   "execution_count": null,
   "metadata": {},
   "outputs": [],
   "source": [
    "using CSV \n",
    "using DataFrames\n",
    "using Distributions\n",
    "using Gadfly\n",
    "using LinearAlgebra\n",
    "import Random\n",
    "using Statistics\n",
    "import StatsBase"
   ]
  },
  {
   "cell_type": "markdown",
   "metadata": {},
   "source": [
    "## Chargement des données"
   ]
  },
  {
   "cell_type": "code",
   "execution_count": null,
   "metadata": {},
   "outputs": [],
   "source": [
    "data = CSV.read(\"diabetes.csv\", DataFrame)\n",
    "select!(data, Not([:prog, :sex]))\n",
    "first(data,5)"
   ]
  },
  {
   "cell_type": "markdown",
   "metadata": {},
   "source": [
    "## Création de l'ensemble d'entraînement et de validation"
   ]
  },
  {
   "cell_type": "code",
   "execution_count": null,
   "metadata": {},
   "outputs": [],
   "source": [
    "Random.seed!(3302)\n",
    "\n",
    "ntrain = round(Int, .8*nrow(data))\n",
    "\n",
    "train_id = sample(1:nrow(data), ntrain, replace=false, ordered=true)\n",
    "valid_id = setdiff(1:nrow(data), train_id)\n",
    "\n",
    "train = data[train_id, :]\n",
    "valid = data[valid_id, :]"
   ]
  },
  {
   "cell_type": "markdown",
   "metadata": {},
   "source": [
    "## Estimation des paramètres de standardisation des variables\n",
    "\n",
    "Paramètres estimés avec l'ensemble d'entraînement."
   ]
  },
  {
   "cell_type": "code",
   "execution_count": null,
   "metadata": {},
   "outputs": [],
   "source": [
    "# Standardisation des variables\n",
    "dt = StatsBase.fit(StatsBase.ZScoreTransform, Matrix{Float64}(train), dims=1)\n",
    "transdata = StatsBase.transform(dt, Matrix{Float64}(train))\n",
    "\n",
    "X = transdata[:,1:8]\n",
    "y = transdata[:,9]\n",
    "\n",
    "n = length(y)\n",
    "m = size(X,2)"
   ]
  },
  {
   "cell_type": "markdown",
   "metadata": {},
   "source": [
    "# Exercice 1 : Régression Ridge"
   ]
  },
  {
   "cell_type": "markdown",
   "metadata": {},
   "source": [
    "### (a) Estimez les coefficients de régression Ridge en utilisant $\\lambda = 0$."
   ]
  },
  {
   "cell_type": "code",
   "execution_count": null,
   "metadata": {},
   "outputs": [],
   "source": []
  },
  {
   "cell_type": "markdown",
   "metadata": {},
   "source": [
    "### (b) Estimez les coefficients de régression Ridge en utilisant $\\lambda = 1$."
   ]
  },
  {
   "cell_type": "code",
   "execution_count": null,
   "metadata": {},
   "outputs": [],
   "source": []
  },
  {
   "cell_type": "markdown",
   "metadata": {},
   "source": [
    "### (c) Pour $0 \\leq \\lambda \\leq 10$, estimez les coefficients de régression puis affichez-les en fonction de $\\lambda$.\n",
    "\n",
    "Ce graphique s'appelle la trace des coefficients de régression. Lorsqu'il y a multicolinéarité, les estimations des coefficients de régression varient beaucoup en fonction de $\\lambda$.\n",
    "\n",
    "Je vous propose de remplir la matrice $\\hat\\beta$ constituée de $p$ colonnes. Chaque ligne correspondra aux estimations des coefficients de régression pour une valeur de $\\lambda$ donnée. Cette matrice sera par la suite transformée en DataFrame pour un affichage simplifié."
   ]
  },
  {
   "cell_type": "code",
   "execution_count": null,
   "metadata": {},
   "outputs": [],
   "source": []
  },
  {
   "cell_type": "code",
   "execution_count": null,
   "metadata": {},
   "outputs": [],
   "source": []
  },
  {
   "cell_type": "markdown",
   "metadata": {},
   "source": [
    "### (d) Estimez λ en minisant l'erreur de prédiction sur l'échantillon de validation"
   ]
  },
  {
   "cell_type": "code",
   "execution_count": null,
   "metadata": {},
   "outputs": [],
   "source": []
  },
  {
   "cell_type": "code",
   "execution_count": null,
   "metadata": {},
   "outputs": [],
   "source": []
  },
  {
   "cell_type": "markdown",
   "metadata": {},
   "source": [
    "### (e) Tracez la loi *a posteriori* marginale du coefficient de régression correspond à la variable *age*.\n",
    "\n",
    "Est-ce que cette variable possède un pouvoir prédictif significatif ? \n",
    "\n",
    "Utiliser la commande `LocationScale(μ, sqrt(Σ), TDist(ν))` pour créer un objet de type *loi de Student multidimensionnelle à ν degrés de liberté, de paramètre de localisation μ et de paramètre d'échelle Σ*."
   ]
  },
  {
   "cell_type": "code",
   "execution_count": null,
   "metadata": {},
   "outputs": [],
   "source": []
  },
  {
   "cell_type": "markdown",
   "metadata": {},
   "source": [
    "### (f) Implémentez l'échantillonnage de Gibbs pour générer un échantillon de la loi *a posteriori* de la régression ridge.\n",
    "\n",
    "Utilisez votre estimation λ̂."
   ]
  },
  {
   "cell_type": "code",
   "execution_count": null,
   "metadata": {},
   "outputs": [],
   "source": []
  },
  {
   "cell_type": "markdown",
   "metadata": {},
   "source": [
    "## Exercice 2 : Exploration stochastique de l'espace des modèles [OPTIONEL]\n",
    "\n",
    "Dans cet exercice, on reprend le jeux de données *bodyfat.csv* comportant le pourcentage de gras de 20 patientes en fonction des variables explicatives suivantes :\n",
    "\n",
    "$x_1$ : l'épaisseur des plis de la peau des triceps (en mm) ;<br/>\n",
    "$x_2$ : le tour de cuisse (en mm) ;<br/>\n",
    "$x_3$ : la circonférence du bras en (mm).<br/>\n",
    "\n",
    "Nous allons implémenter l'échantillonnage de Gibbs pour explorer de façon stochastique l'espace des modèele. Puisqu'il n'y a que 3 variables explicatives dans ce cas-ci, il est possible de déterminer quel est le *vrai* meilleur modèle par énumération complète de tous les modèles.\n"
   ]
  },
  {
   "cell_type": "code",
   "execution_count": null,
   "metadata": {},
   "outputs": [],
   "source": [
    "# Chargement des données\n",
    "\n",
    "data = CSV.read(\"bodyfat.csv\", DataFrame)\n",
    "first(data, 5)"
   ]
  },
  {
   "cell_type": "code",
   "execution_count": null,
   "metadata": {},
   "outputs": [],
   "source": [
    "# Standardisation des variables\n",
    "dt = StatsBase.fit(StatsBase.ZScoreTransform, Matrix{Float64}(data), dims=1)\n",
    "transdata = StatsBase.transform(dt, Matrix{Float64}(data))\n",
    "\n",
    "X = transdata[:,1:3]\n",
    "y = transdata[:,4]\n",
    "\n",
    "n = length(y)\n",
    "m = size(X,2)"
   ]
  },
  {
   "cell_type": "code",
   "execution_count": null,
   "metadata": {},
   "outputs": [],
   "source": [
    "# Énumration de tous les modèles possibles\n",
    "\n",
    "itr = reverse.(Iterators.product(fill(0:1,m)...))[:]\n",
    "\n",
    "M = BitArray[]\n",
    "for i in eachindex(itr)\n",
    "   push!(M, [itr[i]...] .== 1)\n",
    "end\n",
    "M"
   ]
  },
  {
   "cell_type": "markdown",
   "metadata": {},
   "source": [
    "### (a) Écrivez une fonction permettant de calculer le BIC d'un modèle.\n",
    "\n",
    "La fonction devrait prendre comme argument un vecteur de booléens indicant quelles variables sont incluses dans le modèle. La fonction devrait prendre en argument par exemple le vecteur [true true true]."
   ]
  },
  {
   "cell_type": "code",
   "execution_count": null,
   "metadata": {},
   "outputs": [],
   "source": [
    "function getbic(γ::BitArray)\n",
    "    \n",
    "    #ToDo\n",
    "end"
   ]
  },
  {
   "cell_type": "markdown",
   "metadata": {},
   "source": [
    "### (b) Calculer le BIC pour chacun des modèles possibles\n",
    "\n",
    "Quel est le meilleur modèle ?"
   ]
  },
  {
   "cell_type": "code",
   "execution_count": null,
   "metadata": {},
   "outputs": [],
   "source": []
  },
  {
   "cell_type": "code",
   "execution_count": null,
   "metadata": {},
   "outputs": [],
   "source": []
  },
  {
   "cell_type": "markdown",
   "metadata": {},
   "source": [
    "### (c) Exécuter la cellule suivante pour parcourir l'espace des modèles avec l'échantillonnage de Gibbs"
   ]
  },
  {
   "cell_type": "code",
   "execution_count": null,
   "metadata": {},
   "outputs": [],
   "source": [
    "function softmax(x::AbstractVector{<:Real})\n",
    "    \n",
    "    z = x .- maximum(x)\n",
    "    \n",
    "    e = exp.(z)\n",
    "    \n",
    "    s = e ./ sum(e)\n",
    "    \n",
    "end"
   ]
  },
  {
   "cell_type": "code",
   "execution_count": null,
   "metadata": {},
   "outputs": [],
   "source": [
    "niter = 10000\n",
    "\n",
    "γ = trues(3,niter)\n",
    "\n",
    "for i=2:niter\n",
    "   γ[:,i] = γ[:,i-1]\n",
    "    for j=1:m\n",
    "        \n",
    "        η₀ = γ[:,i]\n",
    "        η₁ = γ[:,i]\n",
    "        η₀[j] = false\n",
    "        η₁[j] = true\n",
    "        \n",
    "#         θ = exp(getbic(η₁)) / ( exp(getbic(η₀)) + exp(getbic(η₁)))\n",
    "        s = softmax(getbic.([η₀, η₁])) # évite l'instabilité numérique\n",
    "        θ = s[2]\n",
    "        \n",
    "        γ[j,i] = rand(Bernoulli(θ))\n",
    "        \n",
    "    end\n",
    "end"
   ]
  },
  {
   "cell_type": "markdown",
   "metadata": {},
   "source": [
    "### (d) Exécuter les cellules suivantes pour déterminer le modèle choisi pour chacune des itérations"
   ]
  },
  {
   "cell_type": "code",
   "execution_count": null,
   "metadata": {},
   "outputs": [],
   "source": [
    "function modelid(M::Vector{BitArray},γ::BitArray)\n",
    "    \n",
    "    @assert length(γ)==length(M[1])\n",
    "    \n",
    "    ind = 1\n",
    "    \n",
    "    while M[ind] != γ\n",
    "        ind +=1\n",
    "    end\n",
    "    \n",
    "    return ind\n",
    "        \n",
    "end"
   ]
  },
  {
   "cell_type": "code",
   "execution_count": null,
   "metadata": {},
   "outputs": [],
   "source": [
    "id = [modelid(M,γ[:,i]) for i=1:size(γ,2)]\n",
    "\n",
    "df = DataFrame(Itération = 1:niter, Modèle = id)\n",
    "\n",
    "groupby(df, :Modèle)\n",
    "\n",
    "nb = combine(groupby(df, :Modèle), :Itération=> length => :Itérations)\n",
    "\n",
    "sort!(nb, :Itérations, rev=true)"
   ]
  },
  {
   "cell_type": "markdown",
   "metadata": {},
   "source": [
    "### (e) Selon les résultats en (d), quel est le meilleur modèle ? Est-ce cohérent avec le BIC calculé en (a) ?"
   ]
  },
  {
   "cell_type": "code",
   "execution_count": null,
   "metadata": {},
   "outputs": [],
   "source": []
  },
  {
   "cell_type": "code",
   "execution_count": null,
   "metadata": {},
   "outputs": [],
   "source": []
  },
  {
   "cell_type": "code",
   "execution_count": null,
   "metadata": {},
   "outputs": [],
   "source": []
  }
 ],
 "metadata": {
  "@webio": {
   "lastCommId": null,
   "lastKernelId": null
  },
  "kernelspec": {
   "display_name": "Julia 1.6.2",
   "language": "julia",
   "name": "julia-1.6"
  },
  "language_info": {
   "file_extension": ".jl",
   "mimetype": "application/julia",
   "name": "julia",
   "version": "1.6.2"
  }
 },
 "nbformat": 4,
 "nbformat_minor": 2
}
